{
 "cells": [
  {
   "cell_type": "code",
   "execution_count": 1,
   "metadata": {},
   "outputs": [
    {
     "name": "stdout",
     "output_type": "stream",
     "text": [
      "What is your firstname? tulasi\n",
      "Your first name is:  tulasi\n",
      "What is your lastname? jangala\n",
      "Your lastname is:  jangala\n",
      "your name is jangala tulasi\n"
     ]
    }
   ],
   "source": [
    "# Program which will take first name and last name from user and print it in reverse order with a space inbetween\n",
    "\n",
    "firstname = input(\"What is your firstname? \")\n",
    "print (\"Your first name is: \", firstname)\n",
    "lastname = input(\"What is your lastname? \")\n",
    "print (\"Your lastname is: \", lastname)\n",
    "print(\"your name is \" + lastname +\" \" + firstname)"
   ]
  },
  {
   "cell_type": "code",
   "execution_count": null,
   "metadata": {},
   "outputs": [],
   "source": []
  }
 ],
 "metadata": {
  "kernelspec": {
   "display_name": "Python 3",
   "language": "python",
   "name": "python3"
  },
  "language_info": {
   "codemirror_mode": {
    "name": "ipython",
    "version": 3
   },
   "file_extension": ".py",
   "mimetype": "text/x-python",
   "name": "python",
   "nbconvert_exporter": "python",
   "pygments_lexer": "ipython3",
   "version": "3.6.4"
  }
 },
 "nbformat": 4,
 "nbformat_minor": 2
}
